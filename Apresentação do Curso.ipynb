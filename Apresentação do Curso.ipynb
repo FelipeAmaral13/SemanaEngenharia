{
 "cells": [
  {
   "cell_type": "markdown",
   "metadata": {},
   "source": [
    "# VII Semana da Engenharia - Introdução a Visão Computacional com Python e Opencv\n",
    "\n",
    "### Ementa:\n",
    "\n",
    "Seção 1 - Noções básicas:\n",
    "\n",
    "* Leitura de imagens e vídeos\n",
    "* Redimensionar e redimensionar frames\n",
    "* Desenhar formas e colocar texto\n",
    "* 5 funções essenciais em OpenCV\n",
    "* Transformações de imagem\n",
    "* Detecção de contorno\n",
    "\n",
    "Seção 2 - Avançado:\n",
    "\n",
    "* Espaços de cores\n",
    "* Canais de cores\n",
    "* Desfoque\n",
    "* Operações BITWISE\n",
    "* Criação de máscaras e usos\n",
    "* histograma\n",
    "* Limiar / binarizar imagens\n",
    "* Detecção de Borda\n",
    "\n",
    "Seção 3 - Rostos:\n",
    "\n",
    "* Detecção de rosto com Haar cascades\n",
    "\n",
    "### Resumo sobre visão computacional:\n",
    "\n",
    "A visão computacional procura integrar as áreas de processamento digital de imagens e inteligência artificial, tendo como objetivo a obtenção de algoritmos capazes de interpretar o conteúdo visual de imagens. Suas aplicações estão presentes em diversos segmentos tecnológicos que envolvem análise de imagens, reconhecimento de padrões e controle inteligente, abrangendo múltiplas áreas do conhecimento, tais como agronomia, astronomia, biologia, biometria, medicina e muitas outras. Constitui , portanto, uma área multidisciplinar com muitas aplicações práticas.\n",
    "\n",
    "O biblioteca OpenCV é uma biblioteca Free que pode ser usada com o Python. Essa biblioteca é usada principalmente para visão computacional e processamento de imagens . É considerada uma das melhores ferramentas de código aberto que auxilia os desenvolvedores a construir projetos completos e robustos em processamento de imagem, detecção de movimento e segmentação e extração de características em uma imagem.\n",
    "\n",
    "Se você é completamente novo no conceito de Visão Computacional ou tem uma compreensão básica disso, este curso será o seu guia para entender os conceitos e algoritmos básicos do OpenCV através de incríveis exemplos.\n",
    "\n",
    "Começando com a instalação do OpenCV em seu sistema e entendendo os fundamentos básicos do processamento de imagens, aplicações de filtro espaciais, realçando bordas com os principais algoritmos já desenvolvidos, operações morfológicas em imagens, fazendo a segmentação da imagem e por último a extração de características. "
   ]
  },
  {
   "cell_type": "markdown",
   "metadata": {},
   "source": [
    "### Requeriments\n",
    "\n",
    "* Python 3\n",
    "* Opencv \n",
    "* Matplotlib\n",
    "* Numpy"
   ]
  },
  {
   "cell_type": "code",
   "execution_count": null,
   "metadata": {},
   "outputs": [],
   "source": [
    "!pip install opencv-python\n",
    "!pip install opencv-contrib-python\n",
    "!pip install matplotlib\n",
    "!pip install numpy"
   ]
  },
  {
   "cell_type": "code",
   "execution_count": null,
   "metadata": {},
   "outputs": [],
   "source": []
  }
 ],
 "metadata": {
  "kernelspec": {
   "display_name": "Python 3",
   "language": "python",
   "name": "python3"
  },
  "language_info": {
   "codemirror_mode": {
    "name": "ipython",
    "version": 3
   },
   "file_extension": ".py",
   "mimetype": "text/x-python",
   "name": "python",
   "nbconvert_exporter": "python",
   "pygments_lexer": "ipython3",
   "version": "3.8.6"
  }
 },
 "nbformat": 4,
 "nbformat_minor": 4
}
